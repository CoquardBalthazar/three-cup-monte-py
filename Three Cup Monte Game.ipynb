{
 "cells": [
  {
   "cell_type": "code",
   "execution_count": 1,
   "id": "2b1d8fb1",
   "metadata": {},
   "outputs": [],
   "source": [
    "from random import shuffle"
   ]
  },
  {
   "cell_type": "code",
   "execution_count": 2,
   "id": "f94749ba",
   "metadata": {},
   "outputs": [],
   "source": [
    "example = [0,1,2,3,4,5]"
   ]
  },
  {
   "cell_type": "code",
   "execution_count": 3,
   "id": "55cc2da2",
   "metadata": {},
   "outputs": [],
   "source": [
    "def shuffle_list(mylist):\n",
    "    shuffle(mylist)\n",
    "    return mylist"
   ]
  },
  {
   "cell_type": "code",
   "execution_count": 4,
   "id": "11eaaf09",
   "metadata": {},
   "outputs": [],
   "source": [
    "result = shuffle_list(example)"
   ]
  },
  {
   "cell_type": "code",
   "execution_count": 5,
   "id": "e5cb28e1",
   "metadata": {},
   "outputs": [
    {
     "data": {
      "text/plain": [
       "[1, 0, 4, 3, 5, 2]"
      ]
     },
     "execution_count": 5,
     "metadata": {},
     "output_type": "execute_result"
    }
   ],
   "source": [
    "result\n",
    "#here is the try out of the function, to see if it works"
   ]
  },
  {
   "cell_type": "code",
   "execution_count": 6,
   "id": "18708e1e",
   "metadata": {},
   "outputs": [],
   "source": [
    "mylist = [' ','0',' ']"
   ]
  },
  {
   "cell_type": "code",
   "execution_count": 7,
   "id": "46fdb55c",
   "metadata": {},
   "outputs": [
    {
     "data": {
      "text/plain": [
       "[' ', '0', ' ']"
      ]
     },
     "execution_count": 7,
     "metadata": {},
     "output_type": "execute_result"
    }
   ],
   "source": [
    "shuffle_list(mylist)"
   ]
  },
  {
   "cell_type": "code",
   "execution_count": 8,
   "id": "f82998d2",
   "metadata": {},
   "outputs": [],
   "source": [
    "def player_guess():\n",
    "    \n",
    "    #placeholder of the user guess :\n",
    "    guess=' '\n",
    "    \n",
    "    #using while loop in order to repeat the question until the guess is valid. Using not in + list to get/ not different of\n",
    "    while guess not in ['0','1','2']:\n",
    "        guess = input(\"Pick a number between 0, 1 and 2\")\n",
    "        \n",
    "    #return the guess of the player and save it as an integer \n",
    "    return int(guess)"
   ]
  },
  {
   "cell_type": "code",
   "execution_count": 9,
   "id": "aba32fb0",
   "metadata": {},
   "outputs": [
    {
     "name": "stdout",
     "output_type": "stream",
     "text": [
      "Pick a number between 0, 1 and 21\n"
     ]
    },
    {
     "data": {
      "text/plain": [
       "1"
      ]
     },
     "execution_count": 9,
     "metadata": {},
     "output_type": "execute_result"
    }
   ],
   "source": [
    "player_guess()"
   ]
  },
  {
   "cell_type": "code",
   "execution_count": 10,
   "id": "bdade857",
   "metadata": {},
   "outputs": [],
   "source": [
    "def checking_guess(mylist, guess):\n",
    "    \n",
    "    \n",
    "    if mylist[guess] == '0':\n",
    "        print('Correct!')\n",
    "    else:\n",
    "        print('Wrong guess try again!')\n",
    "        print(mylist)"
   ]
  },
  {
   "cell_type": "code",
   "execution_count": 16,
   "id": "78dd939f",
   "metadata": {},
   "outputs": [
    {
     "name": "stdout",
     "output_type": "stream",
     "text": [
      "Pick a number between 0, 1 and 21\n",
      "Correct!\n"
     ]
    }
   ],
   "source": [
    "# Name the initial list\n",
    "mylist = [' ','0',' ']\n",
    "\n",
    "# Shuffle list : get the results as a new variable to be able to call it after\n",
    "mix_list = shuffle_list(mylist)\n",
    "\n",
    "# Guess of the player\n",
    "guess = player_guess()\n",
    "\n",
    "# Check the result = call the function and create the interaction between them\n",
    "checking_guess(mix_list,guess)"
   ]
  },
  {
   "cell_type": "code",
   "execution_count": null,
   "id": "dc99ab60",
   "metadata": {},
   "outputs": [],
   "source": []
  },
  {
   "cell_type": "code",
   "execution_count": null,
   "id": "2960a4e6",
   "metadata": {},
   "outputs": [],
   "source": []
  }
 ],
 "metadata": {
  "kernelspec": {
   "display_name": "Python 3 (ipykernel)",
   "language": "python",
   "name": "python3"
  },
  "language_info": {
   "codemirror_mode": {
    "name": "ipython",
    "version": 3
   },
   "file_extension": ".py",
   "mimetype": "text/x-python",
   "name": "python",
   "nbconvert_exporter": "python",
   "pygments_lexer": "ipython3",
   "version": "3.11.3"
  }
 },
 "nbformat": 4,
 "nbformat_minor": 5
}
